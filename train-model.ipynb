{
 "cells": [
  {
   "cell_type": "code",
   "execution_count": 1,
   "id": "00b29350",
   "metadata": {},
   "outputs": [],
   "source": [
    "import os\n",
    "import numpy as np\n",
    "import tensorflow as tf\n",
    "from tensorflow.keras import Sequential\n",
    "from tensorflow.keras.layers import GlobalAveragePooling2D, Dense, Dropout, BatchNormalization\n",
    "from tensorflow.keras.applications import MobileNetV2\n",
    "from tensorflow.keras.preprocessing.image import ImageDataGenerator\n",
    "from tensorflow.keras.callbacks import ModelCheckpoint, EarlyStopping, ReduceLROnPlateau\n",
    "from tensorflow.keras.applications.mobilenet_v2 import preprocess_input"
   ]
  },
  {
   "cell_type": "code",
   "execution_count": null,
   "id": "f2f224fd",
   "metadata": {},
   "outputs": [],
   "source": [
    "# Parameter settings\",\n",
    "TRAIN_DIR = 'dataset/train'\n",
    "VAL_DIR   = 'dataset/val'\n",
    "TEST_DIR  = 'dataset/test'\n",
    "\n",
    "# Reduce image size to speed up training on CPU\",\n",
    "IMG_SIZE = (224, 224)\n",
    "\n",
    "# Smaller batch to fit in limited RAM and work better on CPU\",\n",
    "BATCH_SIZE = 8\n",
    "\n",
    "# Reduce epochs; we'll do a short fine-tune later\",\n",
    "EPOCHS = 30\n",
    "FINE_TUNE_EPOCHS = 20\n",
    "\n",
    "SAVE_DIR = 'models'\n",
    "os.makedirs(SAVE_DIR, exist_ok=True)"
   ]
  },
  {
   "cell_type": "code",
   "execution_count": 3,
   "id": "a34f571c",
   "metadata": {},
   "outputs": [],
   "source": [
    "# Data augmentation\n",
    "train_datagen = tf.keras.preprocessing.image.ImageDataGenerator(\n",
    "    preprocessing_function=preprocess_input,\n",
    "    rotation_range=20,\n",
    "    width_shift_range=0.2,\n",
    "    height_shift_range=0.2,\n",
    "    shear_range=0.1,\n",
    "    zoom_range=0.2,\n",
    "    horizontal_flip=True,\n",
    "    fill_mode='nearest'\n",
    ")\n",
    "\n",
    "val_datagen = tf.keras.preprocessing.image.ImageDataGenerator(preprocessing_function=preprocess_input)"
   ]
  },
  {
   "cell_type": "code",
   "execution_count": 4,
   "id": "c12e7cc0",
   "metadata": {},
   "outputs": [
    {
     "name": "stdout",
     "output_type": "stream",
     "text": [
      "Found 11418 images belonging to 7 classes.\n",
      "Found 1430 images belonging to 7 classes.\n"
     ]
    }
   ],
   "source": [
    "# Create data generators\n",
    "train_generator = train_datagen.flow_from_directory(\n",
    "    TRAIN_DIR,\n",
    "    target_size=IMG_SIZE,\n",
    "    batch_size=BATCH_SIZE,\n",
    "    class_mode='categorical',\n",
    "    shuffle=True\n",
    ")\n",
    "\n",
    "val_generator = val_datagen.flow_from_directory(\n",
    "    VAL_DIR,\n",
    "    target_size=IMG_SIZE,\n",
    "    batch_size=BATCH_SIZE,\n",
    "    class_mode='categorical',\n",
    "    shuffle=False\n",
    ")"
   ]
  },
  {
   "cell_type": "code",
   "execution_count": 5,
   "id": "74ff54d1",
   "metadata": {},
   "outputs": [
    {
     "name": "stdout",
     "output_type": "stream",
     "text": [
      "Classes: {'cardboard': 0, 'e-waste': 1, 'glass': 2, 'medical': 3, 'metal': 4, 'paper': 5, 'plastic': 6}\n"
     ]
    }
   ],
   "source": [
    "# Get number of classes\n",
    "num_classes = train_generator.num_classes\n",
    "class_names = train_generator.class_indices\n",
    "print(\"Classes:\", class_names)"
   ]
  },
  {
   "cell_type": "code",
   "execution_count": 6,
   "id": "de8358ac",
   "metadata": {},
   "outputs": [
    {
     "name": "stdout",
     "output_type": "stream",
     "text": [
      "Saved class indices to: models\\class_indices.json and models\\class_indices.csv\n"
     ]
    }
   ],
   "source": [
    "import json\n",
    "import csv\n",
    "\n",
    "\n",
    "class_indices = train_generator.class_indices  # dictionary {class_name: index}\n",
    "os.makedirs(SAVE_DIR, exist_ok=True)\n",
    "\n",
    "json_path = os.path.join(SAVE_DIR, 'class_indices.json')\n",
    "with open(json_path, 'w', encoding='utf-8') as f:\n",
    "    json.dump(class_indices, f, ensure_ascii=False, indent=2)\n",
    "\n",
    "csv_path = os.path.join(SAVE_DIR, 'class_indices.csv')\n",
    "with open(csv_path, 'w', newline='', encoding='utf-8') as f:\n",
    "    writer = csv.writer(f)\n",
    "    writer.writerow(['class_name', 'index'])\n",
    "    # sort by index for consistent ordering\n",
    "    for name, idx in sorted(class_indices.items(), key=lambda x: x[1]):\n",
    "        writer.writerow([name, idx])\n",
    "\n",
    "print(f\"Saved class indices to: {json_path} and {csv_path}\")"
   ]
  },
  {
   "cell_type": "code",
   "execution_count": 7,
   "id": "9316686d",
   "metadata": {},
   "outputs": [
    {
     "name": "stdout",
     "output_type": "stream",
     "text": [
      "Class weights: {0: 1.056439674315322, 1: 0.8482282148428795, 2: 1.0093705799151345, 3: 1.303871188763275, 4: 0.9861806875107963, 5: 0.9466876710057209, 6: 0.9555611348229978}\n"
     ]
    }
   ],
   "source": [
    "# Compute simple class weights to handle imbalance\n",
    "from collections import Counter\n",
    "counts = Counter(train_generator.classes)\n",
    "total = sum(counts.values())\n",
    "class_weights = {i: total/(num_classes*counts[i]) for i in range(num_classes)}\n",
    "print(\"Class weights:\", class_weights)"
   ]
  },
  {
   "cell_type": "code",
   "execution_count": 8,
   "id": "61c9fbcb",
   "metadata": {},
   "outputs": [],
   "source": [
    "# Load MobileNetV2 model\n",
    "base_model = tf.keras.applications.MobileNetV2(\n",
    "    input_shape=(IMG_SIZE[0], IMG_SIZE[1], 3),\n",
    "    include_top=False,\n",
    "    weights='imagenet'\n",
    ")\n",
    "\n",
    "# Freeze base model layers\n",
    "base_model.trainable = False"
   ]
  },
  {
   "cell_type": "code",
   "execution_count": 9,
   "id": "59a961d2",
   "metadata": {},
   "outputs": [
    {
     "name": "stdout",
     "output_type": "stream",
     "text": [
      "Model: \"sequential\"\n",
      "_________________________________________________________________\n",
      " Layer (type)                Output Shape              Param #   \n",
      "=================================================================\n",
      " mobilenetv2_1.00_224 (Funct  (None, 7, 7, 1280)       2257984   \n",
      " ional)                                                          \n",
      "                                                                 \n",
      " global_average_pooling2d (G  (None, 1280)             0         \n",
      " lobalAveragePooling2D)                                          \n",
      "                                                                 \n",
      " batch_normalization (BatchN  (None, 1280)             5120      \n",
      " ormalization)                                                   \n",
      "                                                                 \n",
      " dense (Dense)               (None, 256)               327936    \n",
      "                                                                 \n",
      " dropout (Dropout)           (None, 256)               0         \n",
      "                                                                 \n",
      " dense_1 (Dense)             (None, 7)                 1799      \n",
      "                                                                 \n",
      "=================================================================\n",
      "Total params: 2,592,839\n",
      "Trainable params: 332,295\n",
      "Non-trainable params: 2,260,544\n",
      "_________________________________________________________________\n"
     ]
    }
   ],
   "source": [
    "from tensorflow.keras.regularizers import l2\n",
    "# Build the model (smaller head for faster CPU training)\n",
    "model = Sequential([\n",
    "    base_model,\n",
    "    GlobalAveragePooling2D(),\n",
    "    BatchNormalization(),\n",
    "    Dense(256, activation='relu', kernel_regularizer=l2(1e-4)),\n",
    "    Dropout(0.5),\n",
    "    Dense(num_classes, activation='softmax')\n",
    "])\n",
    "\n",
    "# Compile the model\n",
    "model.compile(\n",
    "    optimizer=tf.keras.optimizers.SGD(learning_rate=1e-4, momentum=0.9),\n",
    "    loss='categorical_crossentropy',\n",
    "    metrics=['accuracy']\n",
    ")\n",
    "model.summary()"
   ]
  },
  {
   "cell_type": "code",
   "execution_count": 10,
   "id": "c587da50",
   "metadata": {},
   "outputs": [],
   "source": [
    "# Early stopping callback for better training\n",
    "ckpt_path = os.path.join(SAVE_DIR, 'best_model.h5')\n",
    "callbacks = [\n",
    "    ModelCheckpoint(ckpt_path, monitor='val_loss', save_best_only=True, verbose=1),\n",
    "    ReduceLROnPlateau(monitor='val_loss', factor=0.5, patience=3, verbose=1),\n",
    "    EarlyStopping(monitor='val_loss', patience=6, restore_best_weights=True, verbose=1)\n",
    "]"
   ]
  },
  {
   "cell_type": "code",
   "execution_count": 11,
   "id": "e6214c37",
   "metadata": {},
   "outputs": [
    {
     "name": "stdout",
     "output_type": "stream",
     "text": [
      "Epoch 1/30\n",
      "  10/1427 [..............................] - ETA: 15:07 - loss: 3.0500 - accuracy: 0.1375"
     ]
    },
    {
     "name": "stderr",
     "output_type": "stream",
     "text": [
      "c:\\Users\\ADMIN\\trash-classifer\\.env\\Lib\\site-packages\\PIL\\Image.py:1039: UserWarning: Palette images with Transparency expressed in bytes should be converted to RGBA images\n",
      "  warnings.warn(\n"
     ]
    },
    {
     "name": "stdout",
     "output_type": "stream",
     "text": [
      "1427/1427 [==============================] - ETA: 0s - loss: 1.8415 - accuracy: 0.4062\n",
      "Epoch 1: val_loss improved from inf to 0.95080, saving model to models\\best_model.h5\n",
      "1427/1427 [==============================] - 595s 413ms/step - loss: 1.8415 - accuracy: 0.4062 - val_loss: 0.9508 - val_accuracy: 0.6791 - lr: 1.0000e-04\n",
      "Epoch 2/30\n",
      "1427/1427 [==============================] - ETA: 0s - loss: 1.2801 - accuracy: 0.5731\n",
      "Epoch 2: val_loss improved from 0.95080 to 0.77816, saving model to models\\best_model.h5\n",
      "1427/1427 [==============================] - 574s 401ms/step - loss: 1.2801 - accuracy: 0.5731 - val_loss: 0.7782 - val_accuracy: 0.7367 - lr: 1.0000e-04\n",
      "Epoch 3/30\n",
      "1427/1427 [==============================] - ETA: 0s - loss: 1.1253 - accuracy: 0.6279\n",
      "Epoch 3: val_loss improved from 0.77816 to 0.70793, saving model to models\\best_model.h5\n",
      "1427/1427 [==============================] - 597s 418ms/step - loss: 1.1253 - accuracy: 0.6279 - val_loss: 0.7079 - val_accuracy: 0.7591 - lr: 1.0000e-04\n",
      "Epoch 4/30\n",
      "1427/1427 [==============================] - ETA: 0s - loss: 1.0389 - accuracy: 0.6553\n",
      "Epoch 4: val_loss improved from 0.70793 to 0.65968, saving model to models\\best_model.h5\n",
      "1427/1427 [==============================] - 582s 408ms/step - loss: 1.0389 - accuracy: 0.6553 - val_loss: 0.6597 - val_accuracy: 0.7809 - lr: 1.0000e-04\n",
      "Epoch 5/30\n",
      "1427/1427 [==============================] - ETA: 0s - loss: 0.9988 - accuracy: 0.6721\n",
      "Epoch 5: val_loss improved from 0.65968 to 0.63839, saving model to models\\best_model.h5\n",
      "1427/1427 [==============================] - 580s 406ms/step - loss: 0.9988 - accuracy: 0.6721 - val_loss: 0.6384 - val_accuracy: 0.7949 - lr: 1.0000e-04\n",
      "Epoch 6/30\n",
      "1427/1427 [==============================] - ETA: 0s - loss: 0.9520 - accuracy: 0.6855\n",
      "Epoch 6: val_loss improved from 0.63839 to 0.61453, saving model to models\\best_model.h5\n",
      "1427/1427 [==============================] - 565s 396ms/step - loss: 0.9520 - accuracy: 0.6855 - val_loss: 0.6145 - val_accuracy: 0.8034 - lr: 1.0000e-04\n",
      "Epoch 7/30\n",
      "1427/1427 [==============================] - ETA: 0s - loss: 0.9248 - accuracy: 0.6964\n",
      "Epoch 7: val_loss improved from 0.61453 to 0.59910, saving model to models\\best_model.h5\n",
      "1427/1427 [==============================] - 552s 386ms/step - loss: 0.9248 - accuracy: 0.6964 - val_loss: 0.5991 - val_accuracy: 0.8076 - lr: 1.0000e-04\n",
      "Epoch 8/30\n",
      "1427/1427 [==============================] - ETA: 0s - loss: 0.9156 - accuracy: 0.6973\n",
      "Epoch 8: val_loss improved from 0.59910 to 0.58955, saving model to models\\best_model.h5\n",
      "1427/1427 [==============================] - 567s 397ms/step - loss: 0.9156 - accuracy: 0.6973 - val_loss: 0.5895 - val_accuracy: 0.8090 - lr: 1.0000e-04\n",
      "Epoch 9/30\n",
      "1427/1427 [==============================] - ETA: 0s - loss: 0.8901 - accuracy: 0.7104\n",
      "Epoch 9: val_loss improved from 0.58955 to 0.58050, saving model to models\\best_model.h5\n",
      "1427/1427 [==============================] - 567s 397ms/step - loss: 0.8901 - accuracy: 0.7104 - val_loss: 0.5805 - val_accuracy: 0.8125 - lr: 1.0000e-04\n",
      "Epoch 10/30\n",
      "1427/1427 [==============================] - ETA: 0s - loss: 0.8641 - accuracy: 0.7160\n",
      "Epoch 10: val_loss improved from 0.58050 to 0.56546, saving model to models\\best_model.h5\n",
      "1427/1427 [==============================] - 568s 397ms/step - loss: 0.8641 - accuracy: 0.7160 - val_loss: 0.5655 - val_accuracy: 0.8139 - lr: 1.0000e-04\n",
      "Epoch 11/30\n",
      "1427/1427 [==============================] - ETA: 0s - loss: 0.8548 - accuracy: 0.7189\n",
      "Epoch 11: val_loss improved from 0.56546 to 0.56005, saving model to models\\best_model.h5\n",
      "1427/1427 [==============================] - 570s 399ms/step - loss: 0.8548 - accuracy: 0.7189 - val_loss: 0.5600 - val_accuracy: 0.8160 - lr: 1.0000e-04\n",
      "Epoch 12/30\n",
      "1427/1427 [==============================] - ETA: 0s - loss: 0.8349 - accuracy: 0.7228\n",
      "Epoch 12: val_loss improved from 0.56005 to 0.55658, saving model to models\\best_model.h5\n",
      "1427/1427 [==============================] - 571s 400ms/step - loss: 0.8349 - accuracy: 0.7228 - val_loss: 0.5566 - val_accuracy: 0.8209 - lr: 1.0000e-04\n",
      "Epoch 13/30\n",
      "1427/1427 [==============================] - ETA: 0s - loss: 0.8338 - accuracy: 0.7301\n",
      "Epoch 13: val_loss improved from 0.55658 to 0.54289, saving model to models\\best_model.h5\n",
      "1427/1427 [==============================] - 569s 399ms/step - loss: 0.8338 - accuracy: 0.7301 - val_loss: 0.5429 - val_accuracy: 0.8209 - lr: 1.0000e-04\n",
      "Epoch 14/30\n",
      "1427/1427 [==============================] - ETA: 0s - loss: 0.8214 - accuracy: 0.7294\n",
      "Epoch 14: val_loss improved from 0.54289 to 0.54162, saving model to models\\best_model.h5\n",
      "1427/1427 [==============================] - 569s 399ms/step - loss: 0.8214 - accuracy: 0.7294 - val_loss: 0.5416 - val_accuracy: 0.8251 - lr: 1.0000e-04\n",
      "Epoch 15/30\n",
      "1427/1427 [==============================] - ETA: 0s - loss: 0.7985 - accuracy: 0.7407\n",
      "Epoch 15: val_loss improved from 0.54162 to 0.53890, saving model to models\\best_model.h5\n",
      "1427/1427 [==============================] - 933s 653ms/step - loss: 0.7985 - accuracy: 0.7407 - val_loss: 0.5389 - val_accuracy: 0.8202 - lr: 1.0000e-04\n",
      "Epoch 16/30\n",
      "1427/1427 [==============================] - ETA: 0s - loss: 0.7951 - accuracy: 0.7422\n",
      "Epoch 16: val_loss improved from 0.53890 to 0.53628, saving model to models\\best_model.h5\n",
      "1427/1427 [==============================] - 640s 448ms/step - loss: 0.7951 - accuracy: 0.7422 - val_loss: 0.5363 - val_accuracy: 0.8251 - lr: 1.0000e-04\n",
      "Epoch 17/30\n",
      "1427/1427 [==============================] - ETA: 0s - loss: 0.7951 - accuracy: 0.7381\n",
      "Epoch 17: val_loss improved from 0.53628 to 0.52618, saving model to models\\best_model.h5\n",
      "1427/1427 [==============================] - 572s 401ms/step - loss: 0.7951 - accuracy: 0.7381 - val_loss: 0.5262 - val_accuracy: 0.8287 - lr: 1.0000e-04\n",
      "Epoch 18/30\n",
      "1427/1427 [==============================] - ETA: 0s - loss: 0.7883 - accuracy: 0.7445\n",
      "Epoch 18: val_loss improved from 0.52618 to 0.52198, saving model to models\\best_model.h5\n",
      "1427/1427 [==============================] - 570s 399ms/step - loss: 0.7883 - accuracy: 0.7445 - val_loss: 0.5220 - val_accuracy: 0.8265 - lr: 1.0000e-04\n",
      "Epoch 19/30\n",
      "1427/1427 [==============================] - ETA: 0s - loss: 0.7757 - accuracy: 0.7468\n",
      "Epoch 19: val_loss improved from 0.52198 to 0.51988, saving model to models\\best_model.h5\n",
      "1427/1427 [==============================] - 571s 400ms/step - loss: 0.7757 - accuracy: 0.7468 - val_loss: 0.5199 - val_accuracy: 0.8279 - lr: 1.0000e-04\n",
      "Epoch 20/30\n",
      "1427/1427 [==============================] - ETA: 0s - loss: 0.7616 - accuracy: 0.7538\n",
      "Epoch 20: val_loss improved from 0.51988 to 0.51602, saving model to models\\best_model.h5\n",
      "1427/1427 [==============================] - 570s 399ms/step - loss: 0.7616 - accuracy: 0.7538 - val_loss: 0.5160 - val_accuracy: 0.8287 - lr: 1.0000e-04\n",
      "Epoch 21/30\n",
      "1427/1427 [==============================] - ETA: 0s - loss: 0.7623 - accuracy: 0.7519\n",
      "Epoch 21: val_loss did not improve from 0.51602\n",
      "1427/1427 [==============================] - 570s 399ms/step - loss: 0.7623 - accuracy: 0.7519 - val_loss: 0.5204 - val_accuracy: 0.8329 - lr: 1.0000e-04\n",
      "Epoch 22/30\n",
      "1427/1427 [==============================] - ETA: 0s - loss: 0.7525 - accuracy: 0.7540\n",
      "Epoch 22: val_loss improved from 0.51602 to 0.50931, saving model to models\\best_model.h5\n",
      "1427/1427 [==============================] - 570s 399ms/step - loss: 0.7525 - accuracy: 0.7540 - val_loss: 0.5093 - val_accuracy: 0.8357 - lr: 1.0000e-04\n",
      "Epoch 23/30\n",
      "1427/1427 [==============================] - ETA: 0s - loss: 0.7574 - accuracy: 0.7506\n",
      "Epoch 23: val_loss improved from 0.50931 to 0.50313, saving model to models\\best_model.h5\n",
      "1427/1427 [==============================] - 571s 400ms/step - loss: 0.7574 - accuracy: 0.7506 - val_loss: 0.5031 - val_accuracy: 0.8357 - lr: 1.0000e-04\n",
      "Epoch 24/30\n",
      "1427/1427 [==============================] - ETA: 0s - loss: 0.7462 - accuracy: 0.7579\n",
      "Epoch 24: val_loss improved from 0.50313 to 0.49954, saving model to models\\best_model.h5\n",
      "1427/1427 [==============================] - 572s 401ms/step - loss: 0.7462 - accuracy: 0.7579 - val_loss: 0.4995 - val_accuracy: 0.8378 - lr: 1.0000e-04\n",
      "Epoch 25/30\n",
      "1427/1427 [==============================] - ETA: 0s - loss: 0.7418 - accuracy: 0.7628\n",
      "Epoch 25: val_loss improved from 0.49954 to 0.49691, saving model to models\\best_model.h5\n",
      "1427/1427 [==============================] - 571s 400ms/step - loss: 0.7418 - accuracy: 0.7628 - val_loss: 0.4969 - val_accuracy: 0.8371 - lr: 1.0000e-04\n",
      "Epoch 26/30\n",
      "1427/1427 [==============================] - ETA: 0s - loss: 0.7325 - accuracy: 0.7620\n",
      "Epoch 26: val_loss did not improve from 0.49691\n",
      "1427/1427 [==============================] - 570s 399ms/step - loss: 0.7325 - accuracy: 0.7620 - val_loss: 0.4973 - val_accuracy: 0.8378 - lr: 1.0000e-04\n",
      "Epoch 27/30\n",
      "1427/1427 [==============================] - ETA: 0s - loss: 0.7300 - accuracy: 0.7610\n",
      "Epoch 27: val_loss improved from 0.49691 to 0.49157, saving model to models\\best_model.h5\n",
      "1427/1427 [==============================] - 582s 408ms/step - loss: 0.7300 - accuracy: 0.7610 - val_loss: 0.4916 - val_accuracy: 0.8413 - lr: 1.0000e-04\n",
      "Epoch 28/30\n",
      "1427/1427 [==============================] - ETA: 0s - loss: 0.7312 - accuracy: 0.7606\n",
      "Epoch 28: val_loss improved from 0.49157 to 0.48682, saving model to models\\best_model.h5\n",
      "1427/1427 [==============================] - 643s 450ms/step - loss: 0.7312 - accuracy: 0.7606 - val_loss: 0.4868 - val_accuracy: 0.8448 - lr: 1.0000e-04\n",
      "Epoch 29/30\n",
      "1427/1427 [==============================] - ETA: 0s - loss: 0.7329 - accuracy: 0.7616\n",
      "Epoch 29: val_loss did not improve from 0.48682\n",
      "1427/1427 [==============================] - 569s 398ms/step - loss: 0.7329 - accuracy: 0.7616 - val_loss: 0.4881 - val_accuracy: 0.8455 - lr: 1.0000e-04\n",
      "Epoch 30/30\n",
      "1427/1427 [==============================] - ETA: 0s - loss: 0.7235 - accuracy: 0.7619\n",
      "Epoch 30: val_loss improved from 0.48682 to 0.48616, saving model to models\\best_model.h5\n",
      "1427/1427 [==============================] - 569s 398ms/step - loss: 0.7235 - accuracy: 0.7619 - val_loss: 0.4862 - val_accuracy: 0.8448 - lr: 1.0000e-04\n"
     ]
    }
   ],
   "source": [
    "# Train the model\n",
    "# Compute steps to stabilize training on generators (safe defaults)\n",
    "steps_per_epoch = max(1, train_generator.samples // BATCH_SIZE)\n",
    "validation_steps = max(1, val_generator.samples // BATCH_SIZE)\n",
    "\n",
    "history = model.fit(\n",
    "    train_generator,\n",
    "    validation_data=val_generator,\n",
    "    epochs=EPOCHS,\n",
    "    steps_per_epoch=steps_per_epoch,\n",
    "    validation_steps=validation_steps,\n",
    "    class_weight=class_weights,\n",
    "    callbacks=callbacks,\n",
    "    workers=4,\n",
    "    use_multiprocessing=False\n",
    ")"
   ]
  },
  {
   "cell_type": "code",
   "execution_count": 12,
   "id": "7a021316",
   "metadata": {},
   "outputs": [],
   "source": [
    "# -------- Fine-tune top of backbone ----------\n",
    "# Unfreeze some layers and fine-tune with lower LR if desired\n",
    "base_model.trainable = True\n",
    "# Freeze first N layers to keep low-level features\n",
    "fine_tune_at = len(base_model.layers) - 50\n",
    "for i, layer in enumerate(base_model.layers):\n",
    "    layer.trainable = True if i >= fine_tune_at else False\n",
    "\n",
    "model.compile(optimizer=tf.keras.optimizers.Adam(learning_rate=1e-5),\n",
    "              loss='categorical_crossentropy', metrics=['accuracy'])"
   ]
  },
  {
   "cell_type": "code",
   "execution_count": 13,
   "id": "9a657cf2",
   "metadata": {},
   "outputs": [
    {
     "name": "stdout",
     "output_type": "stream",
     "text": [
      "Epoch 1/15\n",
      "1427/1427 [==============================] - ETA: 0s - loss: 0.9449 - accuracy: 0.6846\n",
      "Epoch 1: val_loss did not improve from 0.48616\n",
      "1427/1427 [==============================] - 831s 575ms/step - loss: 0.9449 - accuracy: 0.6846 - val_loss: 0.5310 - val_accuracy: 0.8371 - lr: 1.0000e-05\n",
      "Epoch 2/15\n",
      "1427/1427 [==============================] - ETA: 0s - loss: 0.8537 - accuracy: 0.7190\n",
      "Epoch 2: val_loss did not improve from 0.48616\n",
      "1427/1427 [==============================] - 822s 575ms/step - loss: 0.8537 - accuracy: 0.7190 - val_loss: 0.5369 - val_accuracy: 0.8315 - lr: 1.0000e-05\n",
      "Epoch 3/15\n",
      "1427/1427 [==============================] - ETA: 0s - loss: 0.7960 - accuracy: 0.7399\n",
      "Epoch 3: val_loss did not improve from 0.48616\n",
      "1427/1427 [==============================] - 822s 576ms/step - loss: 0.7960 - accuracy: 0.7399 - val_loss: 0.4862 - val_accuracy: 0.8483 - lr: 1.0000e-05\n",
      "Epoch 4/15\n",
      "1427/1427 [==============================] - ETA: 0s - loss: 0.7374 - accuracy: 0.7626\n",
      "Epoch 4: val_loss improved from 0.48616 to 0.46757, saving model to models\\best_model.h5\n",
      "1427/1427 [==============================] - 821s 575ms/step - loss: 0.7374 - accuracy: 0.7626 - val_loss: 0.4676 - val_accuracy: 0.8525 - lr: 1.0000e-05\n",
      "Epoch 5/15\n",
      "1427/1427 [==============================] - ETA: 0s - loss: 0.7193 - accuracy: 0.7674\n",
      "Epoch 5: val_loss did not improve from 0.46757\n",
      "1427/1427 [==============================] - 823s 576ms/step - loss: 0.7193 - accuracy: 0.7674 - val_loss: 0.4678 - val_accuracy: 0.8560 - lr: 1.0000e-05\n",
      "Epoch 6/15\n",
      "1427/1427 [==============================] - ETA: 0s - loss: 0.6912 - accuracy: 0.7780\n",
      "Epoch 6: val_loss improved from 0.46757 to 0.44726, saving model to models\\best_model.h5\n",
      "1427/1427 [==============================] - 827s 579ms/step - loss: 0.6912 - accuracy: 0.7780 - val_loss: 0.4473 - val_accuracy: 0.8645 - lr: 1.0000e-05\n",
      "Epoch 7/15\n",
      "1427/1427 [==============================] - ETA: 0s - loss: 0.6697 - accuracy: 0.7880\n",
      "Epoch 7: val_loss improved from 0.44726 to 0.42308, saving model to models\\best_model.h5\n",
      "1427/1427 [==============================] - 878s 615ms/step - loss: 0.6697 - accuracy: 0.7880 - val_loss: 0.4231 - val_accuracy: 0.8687 - lr: 1.0000e-05\n",
      "Epoch 8/15\n",
      "1427/1427 [==============================] - ETA: 0s - loss: 0.6427 - accuracy: 0.7942\n",
      "Epoch 8: val_loss improved from 0.42308 to 0.40009, saving model to models\\best_model.h5\n",
      "1427/1427 [==============================] - 890s 624ms/step - loss: 0.6427 - accuracy: 0.7942 - val_loss: 0.4001 - val_accuracy: 0.8834 - lr: 1.0000e-05\n",
      "Epoch 9/15\n",
      "1427/1427 [==============================] - ETA: 0s - loss: 0.6245 - accuracy: 0.8018\n",
      "Epoch 9: val_loss improved from 0.40009 to 0.38976, saving model to models\\best_model.h5\n",
      "1427/1427 [==============================] - 922s 646ms/step - loss: 0.6245 - accuracy: 0.8018 - val_loss: 0.3898 - val_accuracy: 0.8890 - lr: 1.0000e-05\n",
      "Epoch 10/15\n",
      "1427/1427 [==============================] - ETA: 0s - loss: 0.6033 - accuracy: 0.8105\n",
      "Epoch 10: val_loss did not improve from 0.38976\n",
      "1427/1427 [==============================] - 887s 621ms/step - loss: 0.6033 - accuracy: 0.8105 - val_loss: 0.3912 - val_accuracy: 0.8890 - lr: 1.0000e-05\n",
      "Epoch 11/15\n",
      "1427/1427 [==============================] - ETA: 0s - loss: 0.5821 - accuracy: 0.8136\n",
      "Epoch 11: val_loss did not improve from 0.38976\n",
      "1427/1427 [==============================] - 872s 610ms/step - loss: 0.5821 - accuracy: 0.8136 - val_loss: 0.3955 - val_accuracy: 0.8771 - lr: 1.0000e-05\n",
      "Epoch 12/15\n",
      "1427/1427 [==============================] - ETA: 0s - loss: 0.5562 - accuracy: 0.8218\n",
      "Epoch 12: val_loss improved from 0.38976 to 0.37836, saving model to models\\best_model.h5\n",
      "1427/1427 [==============================] - 874s 612ms/step - loss: 0.5562 - accuracy: 0.8218 - val_loss: 0.3784 - val_accuracy: 0.8806 - lr: 1.0000e-05\n",
      "Epoch 13/15\n",
      "1427/1427 [==============================] - ETA: 0s - loss: 0.5447 - accuracy: 0.8273\n",
      "Epoch 13: val_loss did not improve from 0.37836\n",
      "1427/1427 [==============================] - 873s 612ms/step - loss: 0.5447 - accuracy: 0.8273 - val_loss: 0.3826 - val_accuracy: 0.8855 - lr: 1.0000e-05\n",
      "Epoch 14/15\n",
      "1427/1427 [==============================] - ETA: 0s - loss: 0.5267 - accuracy: 0.8329\n",
      "Epoch 14: val_loss improved from 0.37836 to 0.36979, saving model to models\\best_model.h5\n",
      "1427/1427 [==============================] - 884s 619ms/step - loss: 0.5267 - accuracy: 0.8329 - val_loss: 0.3698 - val_accuracy: 0.8919 - lr: 1.0000e-05\n",
      "Epoch 15/15\n",
      "1427/1427 [==============================] - ETA: 0s - loss: 0.5241 - accuracy: 0.8367\n",
      "Epoch 15: val_loss did not improve from 0.36979\n",
      "1427/1427 [==============================] - 871s 610ms/step - loss: 0.5241 - accuracy: 0.8367 - val_loss: 0.3719 - val_accuracy: 0.8876 - lr: 1.0000e-05\n"
     ]
    }
   ],
   "source": [
    "history_ft = model.fit(\n",
    "    train_generator,\n",
    "    validation_data=val_generator,\n",
    "    epochs=FINE_TUNE_EPOCHS,\n",
    "    steps_per_epoch=steps_per_epoch,\n",
    "    validation_steps=validation_steps,\n",
    "    class_weight=class_weights,\n",
    "    callbacks=callbacks,\n",
    "    workers=4,\n",
    "    use_multiprocessing=False\n",
    ")"
   ]
  },
  {
   "cell_type": "code",
   "execution_count": 14,
   "id": "538ac1f1",
   "metadata": {},
   "outputs": [
    {
     "name": "stdout",
     "output_type": "stream",
     "text": [
      "Found 1431 images belonging to 7 classes.\n",
      "179/179 [==============================] - 62s 347ms/step - loss: 0.4420 - accuracy: 0.8721\n",
      "Test accuracy: 0.8721, loss: 0.4420\n"
     ]
    }
   ],
   "source": [
    "# -------- Evaluate on test set ----------\n",
    "test_datagen = ImageDataGenerator(preprocessing_function=preprocess_input)\n",
    "test_generator = test_datagen.flow_from_directory(TEST_DIR, target_size=IMG_SIZE, batch_size=BATCH_SIZE, class_mode='categorical', shuffle=False)\n",
    "loss, acc = model.evaluate(test_generator)\n",
    "print(f\"Test accuracy: {acc:.4f}, loss: {loss:.4f}\")"
   ]
  },
  {
   "cell_type": "code",
   "execution_count": 15,
   "id": "4184901a",
   "metadata": {},
   "outputs": [
    {
     "name": "stdout",
     "output_type": "stream",
     "text": [
      "Saved model to: models\\waste_model_final(v2).h5\n"
     ]
    }
   ],
   "source": [
    "# Save final model (h5 + SavedModel)\n",
    "final_h5 = os.path.join(SAVE_DIR, 'waste_model_final(v2).h5')\n",
    "model.save(final_h5)\n",
    "print(\"Saved model to:\", final_h5)"
   ]
  },
  {
   "cell_type": "code",
   "execution_count": 16,
   "id": "2a35d13d",
   "metadata": {},
   "outputs": [
    {
     "data": {
      "image/png": "[encoded data removed]",
      "text/plain": [
       "<Figure size 640x480 with 1 Axes>"
      ]
     },
     "metadata": {},
     "output_type": "display_data"
    },
    {
     "data": {
      "image/png": "[encoded data removed]",
      "text/plain": [
       "<Figure size 640x480 with 1 Axes>"
      ]
     },
     "metadata": {},
     "output_type": "display_data"
    }
   ],
   "source": [
    "import matplotlib.pyplot as plt\n",
    "\n",
    "# Plot accuracy\n",
    "plt.plot(history.history['accuracy'], label='Train Accuracy')\n",
    "plt.plot(history.history['val_accuracy'], label='Val Accuracy')\n",
    "plt.xlabel('Epoch')\n",
    "plt.ylabel('Accuracy')\n",
    "plt.legend()\n",
    "plt.title('Training and Validation Accuracy')\n",
    "plt.show()\n",
    "\n",
    "# Plot loss\n",
    "plt.plot(history.history['loss'], label='Train Loss')\n",
    "plt.plot(history.history['val_loss'], label='Val Loss')\n",
    "plt.xlabel('Epoch')\n",
    "plt.ylabel('Loss')\n",
    "plt.legend()\n",
    "plt.title('Training and Validation Loss')\n",
    "plt.show()"
   ]
  },
  {
   "cell_type": "code",
   "execution_count": 19,
   "id": "32afb5bf",
   "metadata": {},
   "outputs": [
    {
     "name": "stdout",
     "output_type": "stream",
     "text": [
      " 30/179 [====>.........................] - ETA: 50s"
     ]
    },
    {
     "name": "stderr",
     "output_type": "stream",
     "text": [
      "c:\\Users\\ADMIN\\trash-classifer\\.env\\Lib\\site-packages\\PIL\\Image.py:1039: UserWarning: Palette images with Transparency expressed in bytes should be converted to RGBA images\n",
      "  warnings.warn(\n"
     ]
    },
    {
     "name": "stdout",
     "output_type": "stream",
     "text": [
      "179/179 [==============================] - 62s 344ms/step\n",
      "              precision    recall  f1-score   support\n",
      "\n",
      "   cardboard       0.87      0.93      0.90       193\n",
      "     e-waste       0.96      0.88      0.92       241\n",
      "       glass       0.83      0.93      0.87       203\n",
      "     medical       0.83      0.85      0.84       157\n",
      "       metal       0.88      0.90      0.89       207\n",
      "       paper       0.87      0.83      0.85       216\n",
      "     plastic       0.85      0.78      0.81       214\n",
      "\n",
      "    accuracy                           0.87      1431\n",
      "   macro avg       0.87      0.87      0.87      1431\n",
      "weighted avg       0.87      0.87      0.87      1431\n",
      "\n",
      "[[180   1   2   1   2   7   0]\n",
      " [  4 213   0  11   5   4   4]\n",
      " [  4   1 188   1   3   1   5]\n",
      " [  1   3   5 134   3   2   9]\n",
      " [  4   0   6   2 187   3   5]\n",
      " [  9   3   7   6   6 179   6]\n",
      " [  5   0  19   7   6  10 167]]\n"
     ]
    }
   ],
   "source": [
    "from sklearn.metrics import classification_report, confusion_matrix\n",
    "import numpy as np\n",
    "\n",
    "Y_pred = model.predict(test_generator)\n",
    "y_pred = np.argmax(Y_pred, axis=1)\n",
    "print(classification_report(test_generator.classes, y_pred, target_names=list(test_generator.class_indices.keys())))\n",
    "cm = confusion_matrix(test_generator.classes, y_pred)\n",
    "print(cm)"
   ]
  }
 ],
 "metadata": {
  "kernelspec": {
   "display_name": ".env",
   "language": "python",
   "name": "python3"
  },
  "language_info": {
   "codemirror_mode": {
    "name": "ipython",
    "version": 3
   },
   "file_extension": ".py",
   "mimetype": "text/x-python",
   "name": "python",
   "nbconvert_exporter": "python",
   "pygments_lexer": "ipython3",
   "version": "3.11.9"
  }
 },
 "nbformat": 4,
 "nbformat_minor": 5
}
