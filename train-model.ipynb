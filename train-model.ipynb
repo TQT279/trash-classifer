{
 "cells": [
  {
   "cell_type": "code",
   "execution_count": 31,
   "id": "00b29350",
   "metadata": {},
   "outputs": [],
   "source": [
    "import os\n",
    "import numpy as np\n",
    "import tensorflow as tf\n",
    "from tensorflow.keras import Sequential\n",
    "from tensorflow.keras.layers import GlobalAveragePooling2D, Dense, Dropout, BatchNormalization\n",
    "from tensorflow.keras.applications import MobileNetV2\n",
    "from tensorflow.keras.preprocessing.image import ImageDataGenerator\n",
    "from tensorflow.keras.callbacks import ModelCheckpoint, EarlyStopping, ReduceLROnPlateau"
   ]
  },
  {
   "cell_type": "code",
   "execution_count": 32,
   "id": "f2f224fd",
   "metadata": {},
   "outputs": [],
   "source": [
    "# Parameter settings\n",
    "TRAIN_DIR = 'dataset/train'\n",
    "VAL_DIR   = 'dataset/val'\n",
    "TEST_DIR  = 'dataset/test'\n",
    "IMG_SIZE = (224, 224)\n",
    "BATCH_SIZE = 32\n",
    "EPOCHS = 25\n",
    "SAVE_DIR = 'models'\n",
    "os.makedirs(SAVE_DIR, exist_ok=True)"
   ]
  },
  {
   "cell_type": "code",
   "execution_count": 33,
   "id": "a34f571c",
   "metadata": {},
   "outputs": [],
   "source": [
    "# Data augmentation\n",
    "train_datagen = tf.keras.preprocessing.image.ImageDataGenerator(\n",
    "    rescale=1./255,\n",
    "    rotation_range=15,\n",
    "    width_shift_range=0.1,\n",
    "    height_shift_range=0.1,\n",
    "    shear_range=0.05,\n",
    "    zoom_range=0.1,\n",
    "    horizontal_flip=True,\n",
    "    fill_mode='nearest'\n",
    ")\n",
    "\n",
    "val_datagen = tf.keras.preprocessing.image.ImageDataGenerator(rescale=1./255)"
   ]
  },
  {
   "cell_type": "code",
   "execution_count": 34,
   "id": "c12e7cc0",
   "metadata": {},
   "outputs": [
    {
     "name": "stdout",
     "output_type": "stream",
     "text": [
      "Found 11418 images belonging to 7 classes.\n",
      "Found 1430 images belonging to 7 classes.\n"
     ]
    }
   ],
   "source": [
    "# Create data generators\n",
    "train_generator = train_datagen.flow_from_directory(\n",
    "    TRAIN_DIR,\n",
    "    target_size=IMG_SIZE,\n",
    "    batch_size=BATCH_SIZE,\n",
    "    class_mode='categorical',\n",
    "    shuffle=True\n",
    ")\n",
    "\n",
    "val_generator = val_datagen.flow_from_directory(\n",
    "    VAL_DIR,\n",
    "    target_size=IMG_SIZE,\n",
    "    batch_size=BATCH_SIZE,\n",
    "    class_mode='categorical',\n",
    "    shuffle=False\n",
    ")"
   ]
  },
  {
   "cell_type": "code",
   "execution_count": 35,
   "id": "74ff54d1",
   "metadata": {},
   "outputs": [
    {
     "name": "stdout",
     "output_type": "stream",
     "text": [
      "Classes: {'cardboard': 0, 'e-waste': 1, 'glass': 2, 'medical': 3, 'metal': 4, 'paper': 5, 'plastic': 6}\n"
     ]
    }
   ],
   "source": [
    "# Get number of classes\n",
    "num_classes = train_generator.num_classes\n",
    "class_names = train_generator.class_indices\n",
    "print(\"Classes:\", class_names)"
   ]
  },
  {
   "cell_type": "code",
   "execution_count": 39,
   "id": "9316686d",
   "metadata": {},
   "outputs": [
    {
     "name": "stdout",
     "output_type": "stream",
     "text": [
      "Class weights: {0: 1.056439674315322, 1: 0.8482282148428795, 2: 1.0093705799151345, 3: 1.303871188763275, 4: 0.9861806875107963, 5: 0.9466876710057209, 6: 0.9555611348229978}\n"
     ]
    }
   ],
   "source": [
    "# Optional: compute simple class weights to handle imbalance\n",
    "from collections import Counter\n",
    "counts = Counter(train_generator.classes)\n",
    "total = sum(counts.values())\n",
    "class_weights = {i: total/(num_classes*counts[i]) for i in range(num_classes)}\n",
    "print(\"Class weights:\", class_weights)"
   ]
  },
  {
   "cell_type": "code",
   "execution_count": 40,
   "id": "61c9fbcb",
   "metadata": {},
   "outputs": [],
   "source": [
    "# Load MobileNetV2 model\n",
    "base_model = tf.keras.applications.MobileNetV2(\n",
    "    input_shape=(IMG_SIZE[0], IMG_SIZE[1], 3),\n",
    "    include_top=False,\n",
    "    weights='imagenet'\n",
    ")\n",
    "\n",
    "# Freeze base model layers\n",
    "base_model.trainable = False"
   ]
  },
  {
   "cell_type": "code",
   "execution_count": 41,
   "id": "59a961d2",
   "metadata": {},
   "outputs": [
    {
     "name": "stdout",
     "output_type": "stream",
     "text": [
      "Model: \"sequential_9\"\n",
      "_________________________________________________________________\n",
      " Layer (type)                Output Shape              Param #   \n",
      "=================================================================\n",
      " mobilenetv2_1.00_224 (Funct  (None, 7, 7, 1280)       2257984   \n",
      " ional)                                                          \n",
      "                                                                 \n",
      " global_average_pooling2d_4   (None, 1280)             0         \n",
      " (GlobalAveragePooling2D)                                        \n",
      "                                                                 \n",
      " batch_normalization_1 (Batc  (None, 1280)             5120      \n",
      " hNormalization)                                                 \n",
      "                                                                 \n",
      " dense_16 (Dense)            (None, 256)               327936    \n",
      "                                                                 \n",
      " dropout_9 (Dropout)         (None, 256)               0         \n",
      "                                                                 \n",
      " dense_17 (Dense)            (None, 7)                 1799      \n",
      "                                                                 \n",
      "=================================================================\n",
      "Total params: 2,592,839\n",
      "Trainable params: 332,295\n",
      "Non-trainable params: 2,260,544\n",
      "_________________________________________________________________\n"
     ]
    }
   ],
   "source": [
    "# Build the model\n",
    "model = Sequential([\n",
    "    base_model,\n",
    "    GlobalAveragePooling2D(),\n",
    "    BatchNormalization(),\n",
    "    Dense(256, activation='relu'),\n",
    "    Dropout(0.5),\n",
    "    Dense(num_classes, activation='softmax')\n",
    "])\n",
    "\n",
    "# Compile the model\n",
    "model.compile(\n",
    "    optimizer=tf.keras.optimizers.Adam(learning_rate=1e-3),\n",
    "    loss='categorical_crossentropy',\n",
    "    metrics=['accuracy']\n",
    ")\n",
    "model.summary()"
   ]
  },
  {
   "cell_type": "code",
   "execution_count": 43,
   "id": "c587da50",
   "metadata": {},
   "outputs": [],
   "source": [
    "# Early stopping callback for better training\n",
    "ckpt_path = os.path.join(SAVE_DIR, 'best_model.h5')\n",
    "callbacks = [\n",
    "    ModelCheckpoint(ckpt_path, monitor='val_loss', save_best_only=True, verbose=1),\n",
    "    ReduceLROnPlateau(monitor='val_loss', factor=0.5, patience=3, verbose=1),\n",
    "    EarlyStopping(monitor='val_loss', patience=6, restore_best_weights=True, verbose=1)\n",
    "]"
   ]
  },
  {
   "cell_type": "code",
   "execution_count": 44,
   "id": "e6214c37",
   "metadata": {},
   "outputs": [
    {
     "name": "stdout",
     "output_type": "stream",
     "text": [
      "Epoch 1/25\n",
      "  5/357 [..............................] - ETA: 11:46 - loss: 2.5425 - accuracy: 0.2500"
     ]
    },
    {
     "name": "stderr",
     "output_type": "stream",
     "text": [
      "c:\\Users\\ADMIN\\trash-classifer\\venv\\Lib\\site-packages\\PIL\\Image.py:1047: UserWarning: Palette images with Transparency expressed in bytes should be converted to RGBA images\n",
      "  warnings.warn(\n"
     ]
    },
    {
     "name": "stdout",
     "output_type": "stream",
     "text": [
      "357/357 [==============================] - ETA: 0s - loss: 1.0175 - accuracy: 0.6847\n",
      "Epoch 1: val_loss improved from inf to 0.56425, saving model to models\\best_model.h5\n",
      "357/357 [==============================] - 695s 2s/step - loss: 1.0175 - accuracy: 0.6847 - val_loss: 0.5643 - val_accuracy: 0.8154 - lr: 0.0010\n",
      "Epoch 2/25\n",
      "357/357 [==============================] - ETA: 0s - loss: 0.6502 - accuracy: 0.7816\n",
      "Epoch 2: val_loss improved from 0.56425 to 0.51543, saving model to models\\best_model.h5\n",
      "357/357 [==============================] - 627s 2s/step - loss: 0.6502 - accuracy: 0.7816 - val_loss: 0.5154 - val_accuracy: 0.8238 - lr: 0.0010\n",
      "Epoch 3/25\n",
      "357/357 [==============================] - ETA: 0s - loss: 0.5600 - accuracy: 0.8078\n",
      "Epoch 3: val_loss improved from 0.51543 to 0.48509, saving model to models\\best_model.h5\n",
      "357/357 [==============================] - 604s 2s/step - loss: 0.5600 - accuracy: 0.8078 - val_loss: 0.4851 - val_accuracy: 0.8336 - lr: 0.0010\n",
      "Epoch 4/25\n",
      "357/357 [==============================] - ETA: 0s - loss: 0.5041 - accuracy: 0.8261\n",
      "Epoch 4: val_loss improved from 0.48509 to 0.46571, saving model to models\\best_model.h5\n",
      "357/357 [==============================] - 619s 2s/step - loss: 0.5041 - accuracy: 0.8261 - val_loss: 0.4657 - val_accuracy: 0.8329 - lr: 0.0010\n",
      "Epoch 5/25\n",
      "357/357 [==============================] - ETA: 0s - loss: 0.4585 - accuracy: 0.8369\n",
      "Epoch 5: val_loss did not improve from 0.46571\n",
      "357/357 [==============================] - 632s 2s/step - loss: 0.4585 - accuracy: 0.8369 - val_loss: 0.4773 - val_accuracy: 0.8280 - lr: 0.0010\n",
      "Epoch 6/25\n",
      "357/357 [==============================] - ETA: 0s - loss: 0.4322 - accuracy: 0.8503\n",
      "Epoch 6: val_loss did not improve from 0.46571\n",
      "357/357 [==============================] - 633s 2s/step - loss: 0.4322 - accuracy: 0.8503 - val_loss: 0.4699 - val_accuracy: 0.8455 - lr: 0.0010\n",
      "Epoch 7/25\n",
      "357/357 [==============================] - ETA: 0s - loss: 0.4052 - accuracy: 0.8627\n",
      "Epoch 7: val_loss improved from 0.46571 to 0.43854, saving model to models\\best_model.h5\n",
      "357/357 [==============================] - 635s 2s/step - loss: 0.4052 - accuracy: 0.8627 - val_loss: 0.4385 - val_accuracy: 0.8503 - lr: 0.0010\n",
      "Epoch 8/25\n",
      "357/357 [==============================] - ETA: 0s - loss: 0.3904 - accuracy: 0.8657\n",
      "Epoch 8: val_loss improved from 0.43854 to 0.43784, saving model to models\\best_model.h5\n",
      "357/357 [==============================] - 635s 2s/step - loss: 0.3904 - accuracy: 0.8657 - val_loss: 0.4378 - val_accuracy: 0.8497 - lr: 0.0010\n",
      "Epoch 9/25\n",
      "357/357 [==============================] - ETA: 0s - loss: 0.3715 - accuracy: 0.8672\n",
      "Epoch 9: val_loss did not improve from 0.43784\n",
      "357/357 [==============================] - 632s 2s/step - loss: 0.3715 - accuracy: 0.8672 - val_loss: 0.4747 - val_accuracy: 0.8497 - lr: 0.0010\n",
      "Epoch 10/25\n",
      "357/357 [==============================] - ETA: 0s - loss: 0.3507 - accuracy: 0.8761\n",
      "Epoch 10: val_loss improved from 0.43784 to 0.43228, saving model to models\\best_model.h5\n",
      "357/357 [==============================] - 635s 2s/step - loss: 0.3507 - accuracy: 0.8761 - val_loss: 0.4323 - val_accuracy: 0.8538 - lr: 0.0010\n",
      "Epoch 11/25\n",
      "357/357 [==============================] - ETA: 0s - loss: 0.3479 - accuracy: 0.8775\n",
      "Epoch 11: val_loss improved from 0.43228 to 0.42696, saving model to models\\best_model.h5\n",
      "357/357 [==============================] - 648s 2s/step - loss: 0.3479 - accuracy: 0.8775 - val_loss: 0.4270 - val_accuracy: 0.8622 - lr: 0.0010\n",
      "Epoch 12/25\n",
      "357/357 [==============================] - ETA: 0s - loss: 0.3336 - accuracy: 0.8821\n",
      "Epoch 12: val_loss did not improve from 0.42696\n",
      "357/357 [==============================] - 620s 2s/step - loss: 0.3336 - accuracy: 0.8821 - val_loss: 0.4396 - val_accuracy: 0.8573 - lr: 0.0010\n",
      "Epoch 13/25\n",
      "357/357 [==============================] - ETA: 0s - loss: 0.3193 - accuracy: 0.8884\n",
      "Epoch 13: val_loss did not improve from 0.42696\n",
      "357/357 [==============================] - 621s 2s/step - loss: 0.3193 - accuracy: 0.8884 - val_loss: 0.4932 - val_accuracy: 0.8476 - lr: 0.0010\n",
      "Epoch 14/25\n",
      "357/357 [==============================] - ETA: 0s - loss: 0.3097 - accuracy: 0.8861\n",
      "Epoch 14: val_loss did not improve from 0.42696\n",
      "\n",
      "Epoch 14: ReduceLROnPlateau reducing learning rate to 0.0005000000237487257.\n",
      "357/357 [==============================] - 622s 2s/step - loss: 0.3097 - accuracy: 0.8861 - val_loss: 0.4849 - val_accuracy: 0.8483 - lr: 0.0010\n",
      "Epoch 15/25\n",
      "357/357 [==============================] - ETA: 0s - loss: 0.2714 - accuracy: 0.9040\n",
      "Epoch 15: val_loss did not improve from 0.42696\n",
      "357/357 [==============================] - 627s 2s/step - loss: 0.2714 - accuracy: 0.9040 - val_loss: 0.4459 - val_accuracy: 0.8629 - lr: 5.0000e-04\n",
      "Epoch 16/25\n",
      "357/357 [==============================] - ETA: 0s - loss: 0.2569 - accuracy: 0.9123\n",
      "Epoch 16: val_loss did not improve from 0.42696\n",
      "357/357 [==============================] - 622s 2s/step - loss: 0.2569 - accuracy: 0.9123 - val_loss: 0.4462 - val_accuracy: 0.8678 - lr: 5.0000e-04\n",
      "Epoch 17/25\n",
      "357/357 [==============================] - ETA: 0s - loss: 0.2446 - accuracy: 0.9134\n",
      "Epoch 17: val_loss did not improve from 0.42696\n",
      "\n",
      "Epoch 17: ReduceLROnPlateau reducing learning rate to 0.0002500000118743628.\n",
      "Restoring model weights from the end of the best epoch: 11.\n",
      "357/357 [==============================] - 607s 2s/step - loss: 0.2446 - accuracy: 0.9134 - val_loss: 0.4432 - val_accuracy: 0.8657 - lr: 5.0000e-04\n",
      "Epoch 17: early stopping\n"
     ]
    }
   ],
   "source": [
    "# Train the model\n",
    "history = model.fit(\n",
    "    train_generator,\n",
    "    validation_data=val_generator,\n",
    "    epochs=EPOCHS,\n",
    "    class_weight=class_weights,\n",
    "    callbacks=callbacks\n",
    ")"
   ]
  },
  {
   "cell_type": "code",
   "execution_count": 45,
   "id": "7a021316",
   "metadata": {},
   "outputs": [],
   "source": [
    "# -------- Optional: fine-tune top of backbone ----------\n",
    "# Unfreeze some layers and fine-tune with lower LR if desired\n",
    "base_model.trainable = True\n",
    "# freeze first N layers to keep low-level features\n",
    "fine_tune_at = len(base_model.layers) - 50\n",
    "for i, layer in enumerate(base_model.layers):\n",
    "    layer.trainable = True if i >= fine_tune_at else False\n",
    "\n",
    "model.compile(optimizer=tf.keras.optimizers.Adam(learning_rate=1e-5),\n",
    "              loss='categorical_crossentropy', metrics=['accuracy'])"
   ]
  },
  {
   "cell_type": "code",
   "execution_count": 46,
   "id": "9a657cf2",
   "metadata": {},
   "outputs": [
    {
     "name": "stdout",
     "output_type": "stream",
     "text": [
      "Epoch 1/12\n",
      "357/357 [==============================] - ETA: 0s - loss: 0.6223 - accuracy: 0.7867\n",
      "Epoch 1: val_loss did not improve from 0.42696\n",
      "357/357 [==============================] - 1024s 3s/step - loss: 0.6223 - accuracy: 0.7867 - val_loss: 0.4777 - val_accuracy: 0.8503 - lr: 1.0000e-05\n",
      "Epoch 2/12\n",
      "357/357 [==============================] - ETA: 0s - loss: 0.4913 - accuracy: 0.8286\n",
      "Epoch 2: val_loss did not improve from 0.42696\n",
      "357/357 [==============================] - 1009s 3s/step - loss: 0.4913 - accuracy: 0.8286 - val_loss: 0.4714 - val_accuracy: 0.8517 - lr: 1.0000e-05\n",
      "Epoch 3/12\n",
      "357/357 [==============================] - ETA: 0s - loss: 0.4317 - accuracy: 0.8489\n",
      "Epoch 3: val_loss did not improve from 0.42696\n",
      "357/357 [==============================] - 1005s 3s/step - loss: 0.4317 - accuracy: 0.8489 - val_loss: 0.4657 - val_accuracy: 0.8629 - lr: 1.0000e-05\n",
      "Epoch 4/12\n",
      "357/357 [==============================] - ETA: 0s - loss: 0.3756 - accuracy: 0.8676\n",
      "Epoch 4: val_loss did not improve from 0.42696\n",
      "357/357 [==============================] - 1055s 3s/step - loss: 0.3756 - accuracy: 0.8676 - val_loss: 0.4623 - val_accuracy: 0.8657 - lr: 1.0000e-05\n",
      "Epoch 5/12\n",
      "357/357 [==============================] - ETA: 0s - loss: 0.3598 - accuracy: 0.8739\n",
      "Epoch 5: val_loss did not improve from 0.42696\n",
      "357/357 [==============================] - 1055s 3s/step - loss: 0.3598 - accuracy: 0.8739 - val_loss: 0.4515 - val_accuracy: 0.8699 - lr: 1.0000e-05\n",
      "Epoch 6/12\n",
      "357/357 [==============================] - ETA: 0s - loss: 0.3449 - accuracy: 0.8803\n",
      "Epoch 6: val_loss did not improve from 0.42696\n",
      "357/357 [==============================] - 893s 3s/step - loss: 0.3449 - accuracy: 0.8803 - val_loss: 0.4412 - val_accuracy: 0.8720 - lr: 1.0000e-05\n",
      "Epoch 7/12\n",
      "357/357 [==============================] - ETA: 0s - loss: 0.3195 - accuracy: 0.8867\n",
      "Epoch 7: val_loss did not improve from 0.42696\n",
      "357/357 [==============================] - 965s 3s/step - loss: 0.3195 - accuracy: 0.8867 - val_loss: 0.4339 - val_accuracy: 0.8734 - lr: 1.0000e-05\n",
      "Epoch 8/12\n",
      "357/357 [==============================] - ETA: 0s - loss: 0.3067 - accuracy: 0.8938\n",
      "Epoch 8: val_loss did not improve from 0.42696\n",
      "357/357 [==============================] - 883s 2s/step - loss: 0.3067 - accuracy: 0.8938 - val_loss: 0.4279 - val_accuracy: 0.8762 - lr: 1.0000e-05\n",
      "Epoch 9/12\n",
      "357/357 [==============================] - ETA: 0s - loss: 0.2961 - accuracy: 0.8971\n",
      "Epoch 9: val_loss improved from 0.42696 to 0.42690, saving model to models\\best_model.h5\n",
      "357/357 [==============================] - 888s 2s/step - loss: 0.2961 - accuracy: 0.8971 - val_loss: 0.4269 - val_accuracy: 0.8748 - lr: 1.0000e-05\n",
      "Epoch 10/12\n",
      "357/357 [==============================] - ETA: 0s - loss: 0.2710 - accuracy: 0.9076\n",
      "Epoch 10: val_loss did not improve from 0.42690\n",
      "357/357 [==============================] - 894s 3s/step - loss: 0.2710 - accuracy: 0.9076 - val_loss: 0.4272 - val_accuracy: 0.8797 - lr: 1.0000e-05\n",
      "Epoch 11/12\n",
      "357/357 [==============================] - ETA: 0s - loss: 0.2619 - accuracy: 0.9091\n",
      "Epoch 11: val_loss did not improve from 0.42690\n",
      "357/357 [==============================] - 888s 2s/step - loss: 0.2619 - accuracy: 0.9091 - val_loss: 0.4300 - val_accuracy: 0.8804 - lr: 1.0000e-05\n",
      "Epoch 12/12\n",
      "357/357 [==============================] - ETA: 0s - loss: 0.2434 - accuracy: 0.9138\n",
      "Epoch 12: val_loss improved from 0.42690 to 0.42026, saving model to models\\best_model.h5\n",
      "357/357 [==============================] - 887s 2s/step - loss: 0.2434 - accuracy: 0.9138 - val_loss: 0.4203 - val_accuracy: 0.8818 - lr: 1.0000e-05\n"
     ]
    }
   ],
   "source": [
    "history_ft = model.fit(\n",
    "    train_generator,\n",
    "    validation_data=val_generator,\n",
    "    epochs=EPOCHS//2,\n",
    "    class_weight=class_weights,\n",
    "    callbacks=callbacks\n",
    ")"
   ]
  },
  {
   "cell_type": "code",
   "execution_count": 47,
   "id": "538ac1f1",
   "metadata": {},
   "outputs": [
    {
     "name": "stdout",
     "output_type": "stream",
     "text": [
      "Found 1431 images belonging to 7 classes.\n",
      "45/45 [==============================] - 63s 1s/step - loss: 0.4587 - accuracy: 0.8658\n",
      "Test accuracy: 0.8658, loss: 0.4587\n"
     ]
    }
   ],
   "source": [
    "# -------- Evaluate on test set ----------\n",
    "test_datagen = ImageDataGenerator(rescale=1./255)\n",
    "test_gen = test_datagen.flow_from_directory(TEST_DIR, target_size=IMG_SIZE, batch_size=BATCH_SIZE, class_mode='categorical', shuffle=False)\n",
    "loss, acc = model.evaluate(test_gen)\n",
    "print(f\"Test accuracy: {acc:.4f}, loss: {loss:.4f}\")"
   ]
  },
  {
   "cell_type": "code",
   "execution_count": 48,
   "id": "4184901a",
   "metadata": {},
   "outputs": [
    {
     "name": "stdout",
     "output_type": "stream",
     "text": [
      "Saved model to: models\\waste_model_final(v1).h5\n"
     ]
    }
   ],
   "source": [
    "# Save final model (h5 + SavedModel)\n",
    "final_h5 = os.path.join(SAVE_DIR, 'waste_model_final(v1).h5')\n",
    "model.save(final_h5)\n",
    "print(\"Saved model to:\", final_h5)"
   ]
  },
  {
   "cell_type": "code",
   "execution_count": 49,
   "id": "2a35d13d",
   "metadata": {},
   "outputs": [
    {
     "data": {
      "image/png": "[encoded data removed]",
      "text/plain": [
       "<Figure size 640x480 with 1 Axes>"
      ]
     },
     "metadata": {},
     "output_type": "display_data"
    },
    {
     "data": {
      "image/png": "[encoded data removed]",
      "text/plain": [
       "<Figure size 640x480 with 1 Axes>"
      ]
     },
     "metadata": {},
     "output_type": "display_data"
    }
   ],
   "source": [
    "import matplotlib.pyplot as plt\n",
    "\n",
    "# Plot accuracy\n",
    "plt.plot(history.history['accuracy'], label='Train Accuracy')\n",
    "plt.plot(history.history['val_accuracy'], label='Val Accuracy')\n",
    "plt.xlabel('Epoch')\n",
    "plt.ylabel('Accuracy')\n",
    "plt.legend()\n",
    "plt.title('Training and Validation Accuracy')\n",
    "plt.show()\n",
    "\n",
    "# Plot loss\n",
    "plt.plot(history.history['loss'], label='Train Loss')\n",
    "plt.plot(history.history['val_loss'], label='Val Loss')\n",
    "plt.xlabel('Epoch')\n",
    "plt.ylabel('Loss')\n",
    "plt.legend()\n",
    "plt.title('Training and Validation Loss')\n",
    "plt.show()"
   ]
  },
  {
   "cell_type": "code",
   "execution_count": 50,
   "id": "dbde671f",
   "metadata": {},
   "outputs": [
    {
     "name": "stdout",
     "output_type": "stream",
     "text": [
      " 7/45 [===>..........................] - ETA: 51s"
     ]
    },
    {
     "name": "stderr",
     "output_type": "stream",
     "text": [
      "c:\\Users\\ADMIN\\trash-classifer\\venv\\Lib\\site-packages\\PIL\\Image.py:1047: UserWarning: Palette images with Transparency expressed in bytes should be converted to RGBA images\n",
      "  warnings.warn(\n"
     ]
    },
    {
     "name": "stdout",
     "output_type": "stream",
     "text": [
      "45/45 [==============================] - 67s 1s/step\n",
      "              precision    recall  f1-score   support\n",
      "\n",
      "   cardboard       0.82      0.92      0.86       193\n",
      "     e-waste       0.94      0.90      0.92       241\n",
      "       glass       0.81      0.92      0.86       203\n",
      "     medical       0.86      0.80      0.83       157\n",
      "       metal       0.91      0.90      0.91       207\n",
      "       paper       0.89      0.80      0.84       216\n",
      "     plastic       0.84      0.81      0.83       214\n",
      "\n",
      "    accuracy                           0.87      1431\n",
      "   macro avg       0.87      0.86      0.86      1431\n",
      "weighted avg       0.87      0.87      0.87      1431\n",
      "\n"
     ]
    }
   ],
   "source": [
    "import numpy as np\n",
    "from sklearn.metrics import classification_report\n",
    "\n",
    "# Get predictions for the test set\n",
    "Y_pred = model.predict(test_gen)\n",
    "y_pred = np.argmax(Y_pred, axis=1)\n",
    "\n",
    "# Print classification report\n",
    "print(classification_report(test_gen.classes, y_pred, target_names=list(test_gen.class_indices.keys())))"
   ]
  }
 ],
 "metadata": {
  "kernelspec": {
   "display_name": "venv",
   "language": "python",
   "name": "python3"
  },
  "language_info": {
   "codemirror_mode": {
    "name": "ipython",
    "version": 3
   },
   "file_extension": ".py",
   "mimetype": "text/x-python",
   "name": "python",
   "nbconvert_exporter": "python",
   "pygments_lexer": "ipython3",
   "version": "3.11.9"
  }
 },
 "nbformat": 4,
 "nbformat_minor": 5
}
