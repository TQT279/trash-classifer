{
 "cells": [
  {
   "cell_type": "code",
   "execution_count": 1,
   "id": "00b29350",
   "metadata": {},
   "outputs": [],
   "source": [
    "import os\n",
    "import numpy as np\n",
    "import tensorflow as tf\n",
    "from tensorflow.keras import Sequential\n",
    "from tensorflow.keras.layers import GlobalAveragePooling2D, Dense, Dropout, BatchNormalization\n",
    "from tensorflow.keras.applications import MobileNetV2\n",
    "from tensorflow.keras.preprocessing.image import ImageDataGenerator\n",
    "from tensorflow.keras.callbacks import ModelCheckpoint, EarlyStopping, ReduceLROnPlateau"
   ]
  },
  {
   "cell_type": "code",
   "execution_count": null,
   "id": "f2f224fd",
   "metadata": {},
   "outputs": [],
   "source": [
    "# Parameter settings\",\n",
    "TRAIN_DIR = 'dataset/train'\n",
    "VAL_DIR   = 'dataset/val'\n",
    "TEST_DIR  = 'dataset/test'\n",
    "\n",
    "# Reduce image size to speed up training on CPU\",\n",
    "IMG_SIZE = (160, 160)\n",
    "\n",
    "# Smaller batch to fit in limited RAM and work better on CPU\",\n",
    "BATCH_SIZE = 16\n",
    "\n",
    "# Reduce epochs; we'll do a short fine-tune later\",\n",
    "EPOCHS = 25\n",
    "FINE_TUNE_EPOCHS = 15\n",
    "\n",
    "SAVE_DIR = 'models'\n",
    "os.makedirs(SAVE_DIR, exist_ok=True)"
   ]
  },
  {
   "cell_type": "code",
   "execution_count": 3,
   "id": "a34f571c",
   "metadata": {},
   "outputs": [],
   "source": [
    "# Data augmentation\n",
    "train_datagen = tf.keras.preprocessing.image.ImageDataGenerator(\n",
    "    rescale=1./255,\n",
    "    rotation_range=15,\n",
    "    width_shift_range=0.1,\n",
    "    height_shift_range=0.1,\n",
    "    shear_range=0.05,\n",
    "    zoom_range=0.1,\n",
    "    horizontal_flip=True,\n",
    "    fill_mode='nearest'\n",
    ")\n",
    "\n",
    "val_datagen = tf.keras.preprocessing.image.ImageDataGenerator(rescale=1./255)"
   ]
  },
  {
   "cell_type": "code",
   "execution_count": 4,
   "id": "c12e7cc0",
   "metadata": {},
   "outputs": [
    {
     "name": "stdout",
     "output_type": "stream",
     "text": [
      "Found 11418 images belonging to 7 classes.\n",
      "Found 1430 images belonging to 7 classes.\n"
     ]
    }
   ],
   "source": [
    "# Create data generators\n",
    "train_generator = train_datagen.flow_from_directory(\n",
    "    TRAIN_DIR,\n",
    "    target_size=IMG_SIZE,\n",
    "    batch_size=BATCH_SIZE,\n",
    "    class_mode='categorical',\n",
    "    shuffle=True\n",
    ")\n",
    "\n",
    "val_generator = val_datagen.flow_from_directory(\n",
    "    VAL_DIR,\n",
    "    target_size=IMG_SIZE,\n",
    "    batch_size=BATCH_SIZE,\n",
    "    class_mode='categorical',\n",
    "    shuffle=False\n",
    ")"
   ]
  },
  {
   "cell_type": "code",
   "execution_count": 5,
   "id": "74ff54d1",
   "metadata": {},
   "outputs": [
    {
     "name": "stdout",
     "output_type": "stream",
     "text": [
      "Classes: {'cardboard': 0, 'e-waste': 1, 'glass': 2, 'medical': 3, 'metal': 4, 'paper': 5, 'plastic': 6}\n"
     ]
    }
   ],
   "source": [
    "# Get number of classes\n",
    "num_classes = train_generator.num_classes\n",
    "class_names = train_generator.class_indices\n",
    "print(\"Classes:\", class_names)"
   ]
  },
  {
   "cell_type": "code",
   "execution_count": 6,
   "id": "9316686d",
   "metadata": {},
   "outputs": [
    {
     "name": "stdout",
     "output_type": "stream",
     "text": [
      "Class weights: {0: 1.056439674315322, 1: 0.8482282148428795, 2: 1.0093705799151345, 3: 1.303871188763275, 4: 0.9861806875107963, 5: 0.9466876710057209, 6: 0.9555611348229978}\n"
     ]
    }
   ],
   "source": [
    "# Compute simple class weights to handle imbalance\n",
    "from collections import Counter\n",
    "counts = Counter(train_generator.classes)\n",
    "total = sum(counts.values())\n",
    "class_weights = {i: total/(num_classes*counts[i]) for i in range(num_classes)}\n",
    "print(\"Class weights:\", class_weights)"
   ]
  },
  {
   "cell_type": "code",
   "execution_count": 7,
   "id": "61c9fbcb",
   "metadata": {},
   "outputs": [],
   "source": [
    "# Load MobileNetV2 model\n",
    "base_model = tf.keras.applications.MobileNetV2(\n",
    "    input_shape=(IMG_SIZE[0], IMG_SIZE[1], 3),\n",
    "    include_top=False,\n",
    "    weights='imagenet'\n",
    ")\n",
    "\n",
    "# Freeze base model layers\n",
    "base_model.trainable = False"
   ]
  },
  {
   "cell_type": "code",
   "execution_count": null,
   "id": "59a961d2",
   "metadata": {},
   "outputs": [
    {
     "name": "stdout",
     "output_type": "stream",
     "text": [
      "Model: \"sequential\"\n",
      "_________________________________________________________________\n",
      " Layer (type)                Output Shape              Param #   \n",
      "=================================================================\n",
      " mobilenetv2_1.00_224 (Funct  (None, 7, 7, 1280)       2257984   \n",
      " ional)                                                          \n",
      "                                                                 \n",
      " global_average_pooling2d (G  (None, 1280)             0         \n",
      " lobalAveragePooling2D)                                          \n",
      "                                                                 \n",
      " batch_normalization (BatchN  (None, 1280)             5120      \n",
      " ormalization)                                                   \n",
      "                                                                 \n",
      " dense (Dense)               (None, 256)               327936    \n",
      "                                                                 \n",
      " dropout (Dropout)           (None, 256)               0         \n",
      "                                                                 \n",
      " dense_1 (Dense)             (None, 7)                 1799      \n",
      "                                                                 \n",
      "=================================================================\n",
      "Total params: 2,592,839\n",
      "Trainable params: 332,295\n",
      "Non-trainable params: 2,260,544\n",
      "_________________________________________________________________\n"
     ]
    }
   ],
   "source": [
    "# Build the model (smaller head for faster CPU training)\n",
    "model = Sequential([\n",
    "    base_model,\n",
    "    GlobalAveragePooling2D(),\n",
    "    BatchNormalization(),\n",
    "    Dense(128, activation='relu'),\n",
    "    Dropout(0.5),\n",
    "    Dense(num_classes, activation='softmax')\n",
    "])\n",
    "\n",
    "# Compile the model\n",
    "model.compile(\n",
    "    optimizer=tf.keras.optimizers.Adam(learning_rate=1e-3),\n",
    "    loss='categorical_crossentropy',\n",
    "    metrics=['accuracy']\n",
    ")\n",
    "model.summary()"
   ]
  },
  {
   "cell_type": "code",
   "execution_count": 9,
   "id": "c587da50",
   "metadata": {},
   "outputs": [],
   "source": [
    "# Early stopping callback for better training\n",
    "ckpt_path = os.path.join(SAVE_DIR, 'best_model.h5')\n",
    "callbacks = [\n",
    "    ModelCheckpoint(ckpt_path, monitor='val_loss', save_best_only=True, verbose=1),\n",
    "    ReduceLROnPlateau(monitor='val_loss', factor=0.5, patience=3, verbose=1),\n",
    "    EarlyStopping(monitor='val_loss', patience=6, restore_best_weights=True, verbose=1)\n",
    "]"
   ]
  },
  {
   "cell_type": "code",
   "execution_count": null,
   "id": "e6214c37",
   "metadata": {},
   "outputs": [
    {
     "name": "stdout",
     "output_type": "stream",
     "text": [
      "Epoch 1/25\n",
      " 16/357 [>.............................] - ETA: 9:02 - loss: 2.0063 - accuracy: 0.3730"
     ]
    },
    {
     "name": "stderr",
     "output_type": "stream",
     "text": [
      "c:\\Users\\ADMIN\\trash-classifer\\.env\\Lib\\site-packages\\PIL\\Image.py:1039: UserWarning: Palette images with Transparency expressed in bytes should be converted to RGBA images\n",
      "  warnings.warn(\n"
     ]
    },
    {
     "name": "stdout",
     "output_type": "stream",
     "text": [
      "357/357 [==============================] - ETA: 0s - loss: 1.0345 - accuracy: 0.6822\n",
      "Epoch 1: val_loss improved from inf to 0.55053, saving model to models\\best_model.h5\n",
      "357/357 [==============================] - 641s 2s/step - loss: 1.0345 - accuracy: 0.6822 - val_loss: 0.5505 - val_accuracy: 0.8105 - lr: 0.0010\n",
      "Epoch 2/25\n",
      "357/357 [==============================] - ETA: 0s - loss: 0.6741 - accuracy: 0.7763\n",
      "Epoch 2: val_loss improved from 0.55053 to 0.50820, saving model to models\\best_model.h5\n",
      "357/357 [==============================] - 621s 2s/step - loss: 0.6741 - accuracy: 0.7763 - val_loss: 0.5082 - val_accuracy: 0.8224 - lr: 0.0010\n",
      "Epoch 3/25\n",
      "357/357 [==============================] - ETA: 0s - loss: 0.5659 - accuracy: 0.8086\n",
      "Epoch 3: val_loss improved from 0.50820 to 0.46491, saving model to models\\best_model.h5\n",
      "357/357 [==============================] - 628s 2s/step - loss: 0.5659 - accuracy: 0.8086 - val_loss: 0.4649 - val_accuracy: 0.8420 - lr: 0.0010\n",
      "Epoch 4/25\n",
      "357/357 [==============================] - ETA: 0s - loss: 0.5023 - accuracy: 0.8243\n",
      "Epoch 4: val_loss improved from 0.46491 to 0.45053, saving model to models\\best_model.h5\n",
      "357/357 [==============================] - 631s 2s/step - loss: 0.5023 - accuracy: 0.8243 - val_loss: 0.4505 - val_accuracy: 0.8469 - lr: 0.0010\n",
      "Epoch 5/25\n",
      "357/357 [==============================] - ETA: 0s - loss: 0.4662 - accuracy: 0.8413\n",
      "Epoch 5: val_loss did not improve from 0.45053\n",
      "357/357 [==============================] - 611s 2s/step - loss: 0.4662 - accuracy: 0.8413 - val_loss: 0.4551 - val_accuracy: 0.8455 - lr: 0.0010\n",
      "Epoch 6/25\n",
      "357/357 [==============================] - ETA: 0s - loss: 0.4464 - accuracy: 0.8412\n",
      "Epoch 6: val_loss did not improve from 0.45053\n",
      "357/357 [==============================] - 621s 2s/step - loss: 0.4464 - accuracy: 0.8412 - val_loss: 0.4567 - val_accuracy: 0.8503 - lr: 0.0010\n",
      "Epoch 7/25\n",
      "357/357 [==============================] - ETA: 0s - loss: 0.4040 - accuracy: 0.8600\n",
      "Epoch 7: val_loss improved from 0.45053 to 0.43145, saving model to models\\best_model.h5\n",
      "357/357 [==============================] - 612s 2s/step - loss: 0.4040 - accuracy: 0.8600 - val_loss: 0.4315 - val_accuracy: 0.8587 - lr: 0.0010\n",
      "Epoch 8/25\n",
      "357/357 [==============================] - ETA: 0s - loss: 0.3885 - accuracy: 0.8663\n",
      "Epoch 8: val_loss improved from 0.43145 to 0.42092, saving model to models\\best_model.h5\n",
      "357/357 [==============================] - 613s 2s/step - loss: 0.3885 - accuracy: 0.8663 - val_loss: 0.4209 - val_accuracy: 0.8622 - lr: 0.0010\n",
      "Epoch 9/25\n",
      "357/357 [==============================] - ETA: 0s - loss: 0.3760 - accuracy: 0.8667\n",
      "Epoch 9: val_loss did not improve from 0.42092\n",
      "357/357 [==============================] - 610s 2s/step - loss: 0.3760 - accuracy: 0.8667 - val_loss: 0.4314 - val_accuracy: 0.8517 - lr: 0.0010\n",
      "Epoch 10/25\n",
      "357/357 [==============================] - ETA: 0s - loss: 0.3678 - accuracy: 0.8702\n",
      "Epoch 10: val_loss did not improve from 0.42092\n",
      "357/357 [==============================] - 612s 2s/step - loss: 0.3678 - accuracy: 0.8702 - val_loss: 0.4290 - val_accuracy: 0.8490 - lr: 0.0010\n",
      "Epoch 11/25\n",
      "357/357 [==============================] - ETA: 0s - loss: 0.3359 - accuracy: 0.8826\n",
      "Epoch 11: val_loss did not improve from 0.42092\n",
      "\n",
      "Epoch 11: ReduceLROnPlateau reducing learning rate to 0.0005000000237487257.\n",
      "357/357 [==============================] - 613s 2s/step - loss: 0.3359 - accuracy: 0.8826 - val_loss: 0.4409 - val_accuracy: 0.8580 - lr: 0.0010\n",
      "Epoch 12/25\n",
      "357/357 [==============================] - ETA: 0s - loss: 0.2985 - accuracy: 0.8948\n",
      "Epoch 12: val_loss did not improve from 0.42092\n",
      "357/357 [==============================] - 610s 2s/step - loss: 0.2985 - accuracy: 0.8948 - val_loss: 0.4295 - val_accuracy: 0.8671 - lr: 5.0000e-04\n",
      "Epoch 13/25\n",
      "357/357 [==============================] - ETA: 0s - loss: 0.2740 - accuracy: 0.9032\n",
      "Epoch 13: val_loss did not improve from 0.42092\n",
      "357/357 [==============================] - 611s 2s/step - loss: 0.2740 - accuracy: 0.9032 - val_loss: 0.4329 - val_accuracy: 0.8615 - lr: 5.0000e-04\n",
      "Epoch 14/25\n",
      "357/357 [==============================] - ETA: 0s - loss: 0.2613 - accuracy: 0.9063\n",
      "Epoch 14: val_loss did not improve from 0.42092\n",
      "\n",
      "Epoch 14: ReduceLROnPlateau reducing learning rate to 0.0002500000118743628.\n",
      "Restoring model weights from the end of the best epoch: 8.\n",
      "357/357 [==============================] - 609s 2s/step - loss: 0.2613 - accuracy: 0.9063 - val_loss: 0.4325 - val_accuracy: 0.8608 - lr: 5.0000e-04\n",
      "Epoch 14: early stopping\n"
     ]
    }
   ],
   "source": [
    "# Train the model\n",
    "# Compute steps to stabilize training on generators (safe defaults)\n",
    "steps_per_epoch = max(1, train_generator.samples // BATCH_SIZE)\n",
    "validation_steps = max(1, val_generator.samples // BATCH_SIZE)\n",
    "\n",
    "history = model.fit(\n",
    "    train_generator,\n",
    "    validation_data=val_generator,\n",
    "    epochs=EPOCHS,\n",
    "    steps_per_epoch=steps_per_epoch,\n",
    "    validation_steps=validation_steps,\n",
    "    class_weight=class_weights,\n",
    "    callbacks=callbacks,\n",
    "    workers=4,\n",
    "    use_multiprocessing=False\n",
    ")"
   ]
  },
  {
   "cell_type": "code",
   "execution_count": 11,
   "id": "7a021316",
   "metadata": {},
   "outputs": [],
   "source": [
    "# -------- Fine-tune top of backbone ----------\n",
    "# Unfreeze some layers and fine-tune with lower LR if desired\n",
    "base_model.trainable = True\n",
    "# Freeze first N layers to keep low-level features\n",
    "fine_tune_at = len(base_model.layers) - 50\n",
    "for i, layer in enumerate(base_model.layers):\n",
    "    layer.trainable = True if i >= fine_tune_at else False\n",
    "\n",
    "model.compile(optimizer=tf.keras.optimizers.Adam(learning_rate=1e-5),\n",
    "              loss='categorical_crossentropy', metrics=['accuracy'])"
   ]
  },
  {
   "cell_type": "code",
   "execution_count": null,
   "id": "9a657cf2",
   "metadata": {},
   "outputs": [
    {
     "name": "stdout",
     "output_type": "stream",
     "text": [
      "Epoch 1/12\n",
      "357/357 [==============================] - ETA: 0s - loss: 0.6189 - accuracy: 0.7887\n",
      "Epoch 1: val_loss did not improve from 0.42092\n",
      "357/357 [==============================] - 861s 2s/step - loss: 0.6189 - accuracy: 0.7887 - val_loss: 0.4728 - val_accuracy: 0.8524 - lr: 1.0000e-05\n",
      "Epoch 2/12\n",
      "357/357 [==============================] - ETA: 0s - loss: 0.5050 - accuracy: 0.8258\n",
      "Epoch 2: val_loss did not improve from 0.42092\n",
      "357/357 [==============================] - 864s 2s/step - loss: 0.5050 - accuracy: 0.8258 - val_loss: 0.4836 - val_accuracy: 0.8476 - lr: 1.0000e-05\n",
      "Epoch 3/12\n",
      "357/357 [==============================] - ETA: 0s - loss: 0.4470 - accuracy: 0.8437\n",
      "Epoch 3: val_loss did not improve from 0.42092\n",
      "357/357 [==============================] - 864s 2s/step - loss: 0.4470 - accuracy: 0.8437 - val_loss: 0.4686 - val_accuracy: 0.8469 - lr: 1.0000e-05\n",
      "Epoch 4/12\n",
      "357/357 [==============================] - ETA: 0s - loss: 0.3909 - accuracy: 0.8614\n",
      "Epoch 4: val_loss did not improve from 0.42092\n",
      "357/357 [==============================] - 855s 2s/step - loss: 0.3909 - accuracy: 0.8614 - val_loss: 0.4708 - val_accuracy: 0.8497 - lr: 1.0000e-05\n",
      "Epoch 5/12\n",
      "357/357 [==============================] - ETA: 0s - loss: 0.3818 - accuracy: 0.8679\n",
      "Epoch 5: val_loss did not improve from 0.42092\n",
      "357/357 [==============================] - 857s 2s/step - loss: 0.3818 - accuracy: 0.8679 - val_loss: 0.4577 - val_accuracy: 0.8545 - lr: 1.0000e-05\n",
      "Epoch 6/12\n",
      "357/357 [==============================] - ETA: 0s - loss: 0.3544 - accuracy: 0.8726\n",
      "Epoch 6: val_loss did not improve from 0.42092\n",
      "357/357 [==============================] - 849s 2s/step - loss: 0.3544 - accuracy: 0.8726 - val_loss: 0.4357 - val_accuracy: 0.8580 - lr: 1.0000e-05\n",
      "Epoch 7/12\n",
      "357/357 [==============================] - ETA: 0s - loss: 0.3332 - accuracy: 0.8793\n",
      "Epoch 7: val_loss did not improve from 0.42092\n",
      "357/357 [==============================] - 845s 2s/step - loss: 0.3332 - accuracy: 0.8793 - val_loss: 0.4337 - val_accuracy: 0.8587 - lr: 1.0000e-05\n",
      "Epoch 8/12\n",
      "357/357 [==============================] - ETA: 0s - loss: 0.3122 - accuracy: 0.8882\n",
      "Epoch 8: val_loss did not improve from 0.42092\n",
      "357/357 [==============================] - 843s 2s/step - loss: 0.3122 - accuracy: 0.8882 - val_loss: 0.4407 - val_accuracy: 0.8636 - lr: 1.0000e-05\n",
      "Epoch 9/12\n",
      "357/357 [==============================] - ETA: 0s - loss: 0.3089 - accuracy: 0.8945\n",
      "Epoch 9: val_loss did not improve from 0.42092\n",
      "357/357 [==============================] - 835s 2s/step - loss: 0.3089 - accuracy: 0.8945 - val_loss: 0.4293 - val_accuracy: 0.8608 - lr: 1.0000e-05\n",
      "Epoch 10/12\n",
      "357/357 [==============================] - ETA: 0s - loss: 0.2851 - accuracy: 0.9013\n",
      "Epoch 10: val_loss improved from 0.42092 to 0.41447, saving model to models\\best_model.h5\n",
      "357/357 [==============================] - 843s 2s/step - loss: 0.2851 - accuracy: 0.9013 - val_loss: 0.4145 - val_accuracy: 0.8692 - lr: 1.0000e-05\n",
      "Epoch 11/12\n",
      "357/357 [==============================] - ETA: 0s - loss: 0.2699 - accuracy: 0.9081\n",
      "Epoch 11: val_loss did not improve from 0.41447\n",
      "357/357 [==============================] - 852s 2s/step - loss: 0.2699 - accuracy: 0.9081 - val_loss: 0.4160 - val_accuracy: 0.8741 - lr: 1.0000e-05\n",
      "Epoch 12/12\n",
      "357/357 [==============================] - ETA: 0s - loss: 0.2632 - accuracy: 0.9081\n",
      "Epoch 12: val_loss improved from 0.41447 to 0.41333, saving model to models\\best_model.h5\n",
      "357/357 [==============================] - 849s 2s/step - loss: 0.2632 - accuracy: 0.9081 - val_loss: 0.4133 - val_accuracy: 0.8713 - lr: 1.0000e-05\n"
     ]
    }
   ],
   "source": [
    "history_ft = model.fit(\n",
    "    train_generator,\n",
    "    validation_data=val_generator,\n",
    "    epochs=FINE_TUNE_EPOCHS,\n",
    "    steps_per_epoch=steps_per_epoch,\n",
    "    validation_steps=validation_steps,\n",
    "    class_weight=class_weights,\n",
    "    callbacks=callbacks,\n",
    "    workers=4,\n",
    "    use_multiprocessing=False\n",
    ")"
   ]
  },
  {
   "cell_type": "code",
   "execution_count": null,
   "id": "538ac1f1",
   "metadata": {},
   "outputs": [
    {
     "name": "stdout",
     "output_type": "stream",
     "text": [
      "Found 1431 images belonging to 7 classes.\n",
      "45/45 [==============================] - 56s 1s/step - loss: 0.4346 - accuracy: 0.8644\n",
      "Test accuracy: 0.8644, loss: 0.4346\n"
     ]
    }
   ],
   "source": [
    "# -------- Evaluate on test set ----------\n",
    "test_datagen = ImageDataGenerator(rescale=1./255)\n",
    "test_generator = test_datagen.flow_from_directory(TEST_DIR, target_size=IMG_SIZE, batch_size=BATCH_SIZE, class_mode='categorical', shuffle=False)\n",
    "loss, acc = model.evaluate(test_generator)\n",
    "print(f\"Test accuracy: {acc:.4f}, loss: {loss:.4f}\")"
   ]
  },
  {
   "cell_type": "code",
   "execution_count": 14,
   "id": "4184901a",
   "metadata": {},
   "outputs": [
    {
     "name": "stdout",
     "output_type": "stream",
     "text": [
      "Saved model to: models\\waste_model_final(v2).h5\n"
     ]
    }
   ],
   "source": [
    "# Save final model (h5 + SavedModel)\n",
    "final_h5 = os.path.join(SAVE_DIR, 'waste_model_final(v2).h5')\n",
    "model.save(final_h5)\n",
    "print(\"Saved model to:\", final_h5)"
   ]
  },
  {
   "cell_type": "code",
   "execution_count": 15,
   "id": "2a35d13d",
   "metadata": {},
   "outputs": [
    {
     "data": {
      "image/png": "[encoded data removed]",
      "text/plain": [
       "<Figure size 640x480 with 1 Axes>"
      ]
     },
     "metadata": {},
     "output_type": "display_data"
    },
    {
     "data": {
      "image/png": "[encoded data removed]",
      "text/plain": [
       "<Figure size 640x480 with 1 Axes>"
      ]
     },
     "metadata": {},
     "output_type": "display_data"
    }
   ],
   "source": [
    "import matplotlib.pyplot as plt\n",
    "\n",
    "# Plot accuracy\n",
    "plt.plot(history.history['accuracy'], label='Train Accuracy')\n",
    "plt.plot(history.history['val_accuracy'], label='Val Accuracy')\n",
    "plt.xlabel('Epoch')\n",
    "plt.ylabel('Accuracy')\n",
    "plt.legend()\n",
    "plt.title('Training and Validation Accuracy')\n",
    "plt.show()\n",
    "\n",
    "# Plot loss\n",
    "plt.plot(history.history['loss'], label='Train Loss')\n",
    "plt.plot(history.history['val_loss'], label='Val Loss')\n",
    "plt.xlabel('Epoch')\n",
    "plt.ylabel('Loss')\n",
    "plt.legend()\n",
    "plt.title('Training and Validation Loss')\n",
    "plt.show()"
   ]
  },
  {
   "cell_type": "code",
   "execution_count": null,
   "id": "dbde671f",
   "metadata": {},
   "outputs": [
    {
     "name": "stdout",
     "output_type": "stream",
     "text": [
      " 7/45 [===>..........................] - ETA: 44s"
     ]
    },
    {
     "name": "stderr",
     "output_type": "stream",
     "text": [
      "c:\\Users\\ADMIN\\trash-classifer\\.env\\Lib\\site-packages\\PIL\\Image.py:1039: UserWarning: Palette images with Transparency expressed in bytes should be converted to RGBA images\n",
      "  warnings.warn(\n"
     ]
    },
    {
     "name": "stdout",
     "output_type": "stream",
     "text": [
      "45/45 [==============================] - 56s 1s/step\n",
      "              precision    recall  f1-score   support\n",
      "\n",
      "   cardboard       0.84      0.93      0.88       193\n",
      "     e-waste       0.96      0.89      0.92       241\n",
      "       glass       0.81      0.93      0.86       203\n",
      "     medical       0.82      0.81      0.81       157\n",
      "       metal       0.92      0.90      0.91       207\n",
      "       paper       0.87      0.84      0.86       216\n",
      "     plastic       0.83      0.75      0.79       214\n",
      "\n",
      "    accuracy                           0.86      1431\n",
      "   macro avg       0.86      0.86      0.86      1431\n",
      "weighted avg       0.87      0.86      0.86      1431\n",
      "\n"
     ]
    }
   ],
   "source": [
    "import numpy as np\n",
    "from sklearn.metrics import classification_report\n",
    "\n",
    "# Get predictions for the test set\n",
    "Y_pred = model.predict(test_generator)\n",
    "y_pred = np.argmax(Y_pred, axis=1)\n",
    "\n",
    "# Print classification report\n",
    "print(classification_report(test_generator.classes, y_pred, target_names=list(test_generator.class_indices.keys())))"
   ]
  },
  {
   "cell_type": "code",
   "execution_count": null,
   "id": "3420d6c7",
   "metadata": {},
   "outputs": [
    {
     "name": "stdout",
     "output_type": "stream",
     "text": [
      "{'cardboard': 0, 'e-waste': 1, 'glass': 2, 'medical': 3, 'metal': 4, 'paper': 5, 'plastic': 6}\n",
      "Saved class indices to: models\\class_indices.json and models\\class_indices.csv\n"
     ]
    }
   ],
   "source": [
    "import json\n",
    "import csv\n",
    "\n",
    "# Print class indices\n",
    "print(train_generator.class_indices)\n",
    "\n",
    "class_indices = train_generator.class_indices  # dictionary {class_name: index}\n",
    "os.makedirs(SAVE_DIR, exist_ok=True)\n",
    "\n",
    "json_path = os.path.join(SAVE_DIR, 'class_indices.json')\n",
    "with open(json_path, 'w', encoding='utf-8') as f:\n",
    "    json.dump(class_indices, f, ensure_ascii=False, indent=2)\n",
    "\n",
    "csv_path = os.path.join(SAVE_DIR, 'class_indices.csv')\n",
    "with open(csv_path, 'w', newline='', encoding='utf-8') as f:\n",
    "    writer = csv.writer(f)\n",
    "    writer.writerow(['class_name', 'index'])\n",
    "    # sort by index for consistent ordering\n",
    "    for name, idx in sorted(class_indices.items(), key=lambda x: x[1]):\n",
    "        writer.writerow([name, idx])\n",
    "\n",
    "print(f\"Saved class indices to: {json_path} and {csv_path}\")"
   ]
  }
 ],
 "metadata": {
  "kernelspec": {
   "display_name": ".env",
   "language": "python",
   "name": "python3"
  },
  "language_info": {
   "codemirror_mode": {
    "name": "ipython",
    "version": 3
   },
   "file_extension": ".py",
   "mimetype": "text/x-python",
   "name": "python",
   "nbconvert_exporter": "python",
   "pygments_lexer": "ipython3",
   "version": "3.11.9"
  }
 },
 "nbformat": 4,
 "nbformat_minor": 5
}
